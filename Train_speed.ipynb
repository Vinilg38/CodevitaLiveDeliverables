{
  "nbformat": 4,
  "nbformat_minor": 0,
  "metadata": {
    "colab": {
      "provenance": [],
      "include_colab_link": true
    },
    "kernelspec": {
      "name": "python3",
      "display_name": "Python 3"
    },
    "language_info": {
      "name": "python"
    }
  },
  "cells": [
    {
      "cell_type": "markdown",
      "metadata": {
        "id": "view-in-github",
        "colab_type": "text"
      },
      "source": [
        "<a href=\"https://colab.research.google.com/github/Vinilg38/CodevitaLiveDeliverables/blob/main/Train_speed.ipynb\" target=\"_parent\"><img src=\"https://colab.research.google.com/assets/colab-badge.svg\" alt=\"Open In Colab\"/></a>"
      ]
    },
    {
      "cell_type": "markdown",
      "source": [
        "PROBLEM STATEMENT\n",
        "\n",
        "Perform exploratory Data Analysis on Train Speed containing the average operating speed of popular trains in India.\n",
        "Create your own dataset(minimum 20 tuples) or find one online.\n",
        "As an intern under the Ministry of Railways, find the correlation between average operating speed and the frequency of train delays/accidents and derive any other relevant insights like passenger satisfaction, percentage of seat occupied, etc.\n",
        "\n",
        "You can use R, Python or any other tool for this task."
      ],
      "metadata": {
        "id": "LbUx8TpwJlkr"
      }
    },
    {
      "cell_type": "markdown",
      "source": [
        "**Importing libraries**"
      ],
      "metadata": {
        "id": "5MsEBAtTJw3N"
      }
    },
    {
      "cell_type": "code",
      "source": [
        "import pandas as pd\n",
        "import numpy as np\n",
        "import seaborn as sns\n",
        "import matplotlib.pyplot as plt\n",
        "import matplotlib\n",
        "import random\n",
        "%matplotlib inline"
      ],
      "metadata": {
        "id": "vmF3Xn09Jz-3"
      },
      "execution_count": null,
      "outputs": []
    },
    {
      "cell_type": "markdown",
      "source": [
        "**Reading the dataset**"
      ],
      "metadata": {
        "id": "S5Z4HmDlJ2vx"
      }
    },
    {
      "cell_type": "code",
      "source": [
        "df=pd.read_csv(\"Train_Speed.csv\",encoding = \"ISO-8859-1\")\n",
        "df"
      ],
      "metadata": {
        "colab": {
          "base_uri": "https://localhost:8080/",
          "height": 424
        },
        "id": "YfjAdvnSJ5Dg",
        "outputId": "ed4d0310-e58b-45a3-8c41-9063dbb77875"
      },
      "execution_count": null,
      "outputs": [
        {
          "output_type": "execute_result",
          "data": {
            "text/plain": [
              "       Train_No                                         Train_Name  Avg_Speed  \\\n",
              "0   12213/12214  Yeshvantapur - Delhi Sarai Rohilla AC Duronto ...      75.64   \n",
              "1   12219/12220  Lokmanya Tilak Terminus - Secunderabad AC Duro...      64.38   \n",
              "2   12221/12222                      Pune - Howrah Duronto Express      72.42   \n",
              "3   12223/12224  Lokmanya Tilak Terminus - Ernakulam Duronto Ex...      60.00   \n",
              "4   12227/12228            Mumbai Central - Indore Duronto Express      65.99   \n",
              "..          ...                                                ...        ...   \n",
              "63  12931/12932   Mumbai Central - Ahmedabad Double Decker Express      69.00   \n",
              "64  20805/20806               Visakhapatnam - New Delhi AP Express      76.00   \n",
              "65  12451/12452                               Shram Shakti Express      67.00   \n",
              "66  17235/17236                  KSR Bengaluru - Nagercoil Express      45.00   \n",
              "67  12049/12050                                   Gatimaan Express      91.00   \n",
              "\n",
              "    Rating Punctuality Cleanliness       Food Availability     Safety  \n",
              "0      4.6        Good   Excellent       Good    Excellent  Excellent  \n",
              "1      4.6   Excellent   Excellent       Good    Excellent       Good  \n",
              "2      4.6   Excellent   Excellent       Good         Good  Excellent  \n",
              "3      4.6   Excellent        Good       Good    Excellent  Excellent  \n",
              "4      4.8   Excellent   Excellent       Good    Excellent  Excellent  \n",
              "..     ...         ...         ...        ...          ...        ...  \n",
              "63     4.6        Good   Excellent       Good    Excellent  Excellent  \n",
              "64     4.2        Good        Good       Good    Excellent       Good  \n",
              "65     4.5   Excellent   Excellent       Good         Good  Excellent  \n",
              "66     3.6        Good        Good    Average         Good       Good  \n",
              "67     5.0   Excellent   Excellent  Excellent    Excellent  Excellent  \n",
              "\n",
              "[68 rows x 9 columns]"
            ],
            "text/html": [
              "\n",
              "  <div id=\"df-374dcc22-c52d-435c-988f-2f594202adcb\">\n",
              "    <div class=\"colab-df-container\">\n",
              "      <div>\n",
              "<style scoped>\n",
              "    .dataframe tbody tr th:only-of-type {\n",
              "        vertical-align: middle;\n",
              "    }\n",
              "\n",
              "    .dataframe tbody tr th {\n",
              "        vertical-align: top;\n",
              "    }\n",
              "\n",
              "    .dataframe thead th {\n",
              "        text-align: right;\n",
              "    }\n",
              "</style>\n",
              "<table border=\"1\" class=\"dataframe\">\n",
              "  <thead>\n",
              "    <tr style=\"text-align: right;\">\n",
              "      <th></th>\n",
              "      <th>Train_No</th>\n",
              "      <th>Train_Name</th>\n",
              "      <th>Avg_Speed</th>\n",
              "      <th>Rating</th>\n",
              "      <th>Punctuality</th>\n",
              "      <th>Cleanliness</th>\n",
              "      <th>Food</th>\n",
              "      <th>Availability</th>\n",
              "      <th>Safety</th>\n",
              "    </tr>\n",
              "  </thead>\n",
              "  <tbody>\n",
              "    <tr>\n",
              "      <th>0</th>\n",
              "      <td>12213/12214</td>\n",
              "      <td>Yeshvantapur - Delhi Sarai Rohilla AC Duronto ...</td>\n",
              "      <td>75.64</td>\n",
              "      <td>4.6</td>\n",
              "      <td>Good</td>\n",
              "      <td>Excellent</td>\n",
              "      <td>Good</td>\n",
              "      <td>Excellent</td>\n",
              "      <td>Excellent</td>\n",
              "    </tr>\n",
              "    <tr>\n",
              "      <th>1</th>\n",
              "      <td>12219/12220</td>\n",
              "      <td>Lokmanya Tilak Terminus - Secunderabad AC Duro...</td>\n",
              "      <td>64.38</td>\n",
              "      <td>4.6</td>\n",
              "      <td>Excellent</td>\n",
              "      <td>Excellent</td>\n",
              "      <td>Good</td>\n",
              "      <td>Excellent</td>\n",
              "      <td>Good</td>\n",
              "    </tr>\n",
              "    <tr>\n",
              "      <th>2</th>\n",
              "      <td>12221/12222</td>\n",
              "      <td>Pune - Howrah Duronto Express</td>\n",
              "      <td>72.42</td>\n",
              "      <td>4.6</td>\n",
              "      <td>Excellent</td>\n",
              "      <td>Excellent</td>\n",
              "      <td>Good</td>\n",
              "      <td>Good</td>\n",
              "      <td>Excellent</td>\n",
              "    </tr>\n",
              "    <tr>\n",
              "      <th>3</th>\n",
              "      <td>12223/12224</td>\n",
              "      <td>Lokmanya Tilak Terminus - Ernakulam Duronto Ex...</td>\n",
              "      <td>60.00</td>\n",
              "      <td>4.6</td>\n",
              "      <td>Excellent</td>\n",
              "      <td>Good</td>\n",
              "      <td>Good</td>\n",
              "      <td>Excellent</td>\n",
              "      <td>Excellent</td>\n",
              "    </tr>\n",
              "    <tr>\n",
              "      <th>4</th>\n",
              "      <td>12227/12228</td>\n",
              "      <td>Mumbai Central - Indore Duronto Express</td>\n",
              "      <td>65.99</td>\n",
              "      <td>4.8</td>\n",
              "      <td>Excellent</td>\n",
              "      <td>Excellent</td>\n",
              "      <td>Good</td>\n",
              "      <td>Excellent</td>\n",
              "      <td>Excellent</td>\n",
              "    </tr>\n",
              "    <tr>\n",
              "      <th>...</th>\n",
              "      <td>...</td>\n",
              "      <td>...</td>\n",
              "      <td>...</td>\n",
              "      <td>...</td>\n",
              "      <td>...</td>\n",
              "      <td>...</td>\n",
              "      <td>...</td>\n",
              "      <td>...</td>\n",
              "      <td>...</td>\n",
              "    </tr>\n",
              "    <tr>\n",
              "      <th>63</th>\n",
              "      <td>12931/12932</td>\n",
              "      <td>Mumbai Central - Ahmedabad Double Decker Express</td>\n",
              "      <td>69.00</td>\n",
              "      <td>4.6</td>\n",
              "      <td>Good</td>\n",
              "      <td>Excellent</td>\n",
              "      <td>Good</td>\n",
              "      <td>Excellent</td>\n",
              "      <td>Excellent</td>\n",
              "    </tr>\n",
              "    <tr>\n",
              "      <th>64</th>\n",
              "      <td>20805/20806</td>\n",
              "      <td>Visakhapatnam - New Delhi AP Express</td>\n",
              "      <td>76.00</td>\n",
              "      <td>4.2</td>\n",
              "      <td>Good</td>\n",
              "      <td>Good</td>\n",
              "      <td>Good</td>\n",
              "      <td>Excellent</td>\n",
              "      <td>Good</td>\n",
              "    </tr>\n",
              "    <tr>\n",
              "      <th>65</th>\n",
              "      <td>12451/12452</td>\n",
              "      <td>Shram Shakti Express</td>\n",
              "      <td>67.00</td>\n",
              "      <td>4.5</td>\n",
              "      <td>Excellent</td>\n",
              "      <td>Excellent</td>\n",
              "      <td>Good</td>\n",
              "      <td>Good</td>\n",
              "      <td>Excellent</td>\n",
              "    </tr>\n",
              "    <tr>\n",
              "      <th>66</th>\n",
              "      <td>17235/17236</td>\n",
              "      <td>KSR Bengaluru - Nagercoil Express</td>\n",
              "      <td>45.00</td>\n",
              "      <td>3.6</td>\n",
              "      <td>Good</td>\n",
              "      <td>Good</td>\n",
              "      <td>Average</td>\n",
              "      <td>Good</td>\n",
              "      <td>Good</td>\n",
              "    </tr>\n",
              "    <tr>\n",
              "      <th>67</th>\n",
              "      <td>12049/12050</td>\n",
              "      <td>Gatimaan Express</td>\n",
              "      <td>91.00</td>\n",
              "      <td>5.0</td>\n",
              "      <td>Excellent</td>\n",
              "      <td>Excellent</td>\n",
              "      <td>Excellent</td>\n",
              "      <td>Excellent</td>\n",
              "      <td>Excellent</td>\n",
              "    </tr>\n",
              "  </tbody>\n",
              "</table>\n",
              "<p>68 rows × 9 columns</p>\n",
              "</div>\n",
              "      <button class=\"colab-df-convert\" onclick=\"convertToInteractive('df-374dcc22-c52d-435c-988f-2f594202adcb')\"\n",
              "              title=\"Convert this dataframe to an interactive table.\"\n",
              "              style=\"display:none;\">\n",
              "        \n",
              "  <svg xmlns=\"http://www.w3.org/2000/svg\" height=\"24px\"viewBox=\"0 0 24 24\"\n",
              "       width=\"24px\">\n",
              "    <path d=\"M0 0h24v24H0V0z\" fill=\"none\"/>\n",
              "    <path d=\"M18.56 5.44l.94 2.06.94-2.06 2.06-.94-2.06-.94-.94-2.06-.94 2.06-2.06.94zm-11 1L8.5 8.5l.94-2.06 2.06-.94-2.06-.94L8.5 2.5l-.94 2.06-2.06.94zm10 10l.94 2.06.94-2.06 2.06-.94-2.06-.94-.94-2.06-.94 2.06-2.06.94z\"/><path d=\"M17.41 7.96l-1.37-1.37c-.4-.4-.92-.59-1.43-.59-.52 0-1.04.2-1.43.59L10.3 9.45l-7.72 7.72c-.78.78-.78 2.05 0 2.83L4 21.41c.39.39.9.59 1.41.59.51 0 1.02-.2 1.41-.59l7.78-7.78 2.81-2.81c.8-.78.8-2.07 0-2.86zM5.41 20L4 18.59l7.72-7.72 1.47 1.35L5.41 20z\"/>\n",
              "  </svg>\n",
              "      </button>\n",
              "      \n",
              "  <style>\n",
              "    .colab-df-container {\n",
              "      display:flex;\n",
              "      flex-wrap:wrap;\n",
              "      gap: 12px;\n",
              "    }\n",
              "\n",
              "    .colab-df-convert {\n",
              "      background-color: #E8F0FE;\n",
              "      border: none;\n",
              "      border-radius: 50%;\n",
              "      cursor: pointer;\n",
              "      display: none;\n",
              "      fill: #1967D2;\n",
              "      height: 32px;\n",
              "      padding: 0 0 0 0;\n",
              "      width: 32px;\n",
              "    }\n",
              "\n",
              "    .colab-df-convert:hover {\n",
              "      background-color: #E2EBFA;\n",
              "      box-shadow: 0px 1px 2px rgba(60, 64, 67, 0.3), 0px 1px 3px 1px rgba(60, 64, 67, 0.15);\n",
              "      fill: #174EA6;\n",
              "    }\n",
              "\n",
              "    [theme=dark] .colab-df-convert {\n",
              "      background-color: #3B4455;\n",
              "      fill: #D2E3FC;\n",
              "    }\n",
              "\n",
              "    [theme=dark] .colab-df-convert:hover {\n",
              "      background-color: #434B5C;\n",
              "      box-shadow: 0px 1px 3px 1px rgba(0, 0, 0, 0.15);\n",
              "      filter: drop-shadow(0px 1px 2px rgba(0, 0, 0, 0.3));\n",
              "      fill: #FFFFFF;\n",
              "    }\n",
              "  </style>\n",
              "\n",
              "      <script>\n",
              "        const buttonEl =\n",
              "          document.querySelector('#df-374dcc22-c52d-435c-988f-2f594202adcb button.colab-df-convert');\n",
              "        buttonEl.style.display =\n",
              "          google.colab.kernel.accessAllowed ? 'block' : 'none';\n",
              "\n",
              "        async function convertToInteractive(key) {\n",
              "          const element = document.querySelector('#df-374dcc22-c52d-435c-988f-2f594202adcb');\n",
              "          const dataTable =\n",
              "            await google.colab.kernel.invokeFunction('convertToInteractive',\n",
              "                                                     [key], {});\n",
              "          if (!dataTable) return;\n",
              "\n",
              "          const docLinkHtml = 'Like what you see? Visit the ' +\n",
              "            '<a target=\"_blank\" href=https://colab.research.google.com/notebooks/data_table.ipynb>data table notebook</a>'\n",
              "            + ' to learn more about interactive tables.';\n",
              "          element.innerHTML = '';\n",
              "          dataTable['output_type'] = 'display_data';\n",
              "          await google.colab.output.renderOutput(dataTable, element);\n",
              "          const docLink = document.createElement('div');\n",
              "          docLink.innerHTML = docLinkHtml;\n",
              "          element.appendChild(docLink);\n",
              "        }\n",
              "      </script>\n",
              "    </div>\n",
              "  </div>\n",
              "  "
            ]
          },
          "metadata": {},
          "execution_count": 3
        }
      ]
    },
    {
      "cell_type": "code",
      "source": [
        "# Get the names of all the labels or columns we have in our dataset.\n",
        "\n",
        "df.columns"
      ],
      "metadata": {
        "colab": {
          "base_uri": "https://localhost:8080/"
        },
        "id": "DdttM0ExKDua",
        "outputId": "2e30c085-95f2-415a-9936-ccb01fa07b42"
      },
      "execution_count": null,
      "outputs": [
        {
          "output_type": "execute_result",
          "data": {
            "text/plain": [
              "Index(['Train_No', 'Train_Name', 'Avg_Speed', 'Rating', 'Punctuality',\n",
              "       'Cleanliness', 'Food', 'Availability', 'Safety'],\n",
              "      dtype='object')"
            ]
          },
          "metadata": {},
          "execution_count": 4
        }
      ]
    },
    {
      "cell_type": "code",
      "source": [
        "#fetching the number of rows and columns\n",
        "\n",
        "df.shape"
      ],
      "metadata": {
        "colab": {
          "base_uri": "https://localhost:8080/"
        },
        "id": "WP-ARkt8KG-h",
        "outputId": "65756665-0951-4034-a6e4-ddfcca5e480c"
      },
      "execution_count": null,
      "outputs": [
        {
          "output_type": "execute_result",
          "data": {
            "text/plain": [
              "(68, 9)"
            ]
          },
          "metadata": {},
          "execution_count": 5
        }
      ]
    },
    {
      "cell_type": "code",
      "source": [
        "df.info()"
      ],
      "metadata": {
        "colab": {
          "base_uri": "https://localhost:8080/"
        },
        "id": "Lwa4aD4JKJcx",
        "outputId": "37348481-0156-4866-9663-7bdbda5fd603"
      },
      "execution_count": null,
      "outputs": [
        {
          "output_type": "stream",
          "name": "stdout",
          "text": [
            "<class 'pandas.core.frame.DataFrame'>\n",
            "RangeIndex: 68 entries, 0 to 67\n",
            "Data columns (total 9 columns):\n",
            " #   Column        Non-Null Count  Dtype  \n",
            "---  ------        --------------  -----  \n",
            " 0   Train_No      68 non-null     object \n",
            " 1   Train_Name    68 non-null     object \n",
            " 2   Avg_Speed     68 non-null     float64\n",
            " 3   Rating        68 non-null     float64\n",
            " 4   Punctuality   68 non-null     object \n",
            " 5   Cleanliness   68 non-null     object \n",
            " 6   Food          68 non-null     object \n",
            " 7   Availability  68 non-null     object \n",
            " 8   Safety        68 non-null     object \n",
            "dtypes: float64(2), object(7)\n",
            "memory usage: 4.9+ KB\n"
          ]
        }
      ]
    },
    {
      "cell_type": "code",
      "source": [
        "#describing the dataset\n",
        "\n",
        "df.describe()"
      ],
      "metadata": {
        "colab": {
          "base_uri": "https://localhost:8080/",
          "height": 300
        },
        "id": "fhYyrDQLKL0Z",
        "outputId": "5555f949-7e9e-4447-c163-ec7bf6d72ce3"
      },
      "execution_count": null,
      "outputs": [
        {
          "output_type": "execute_result",
          "data": {
            "text/plain": [
              "       Avg_Speed     Rating\n",
              "count  68.000000  68.000000\n",
              "mean   74.015294   4.432353\n",
              "std     8.308263   0.375138\n",
              "min    45.000000   3.300000\n",
              "25%    68.750000   4.275000\n",
              "50%    74.500000   4.600000\n",
              "75%    78.000000   4.600000\n",
              "max    91.300000   5.000000"
            ],
            "text/html": [
              "\n",
              "  <div id=\"df-afb24b5d-c135-4af1-a3bb-cad3214e559e\">\n",
              "    <div class=\"colab-df-container\">\n",
              "      <div>\n",
              "<style scoped>\n",
              "    .dataframe tbody tr th:only-of-type {\n",
              "        vertical-align: middle;\n",
              "    }\n",
              "\n",
              "    .dataframe tbody tr th {\n",
              "        vertical-align: top;\n",
              "    }\n",
              "\n",
              "    .dataframe thead th {\n",
              "        text-align: right;\n",
              "    }\n",
              "</style>\n",
              "<table border=\"1\" class=\"dataframe\">\n",
              "  <thead>\n",
              "    <tr style=\"text-align: right;\">\n",
              "      <th></th>\n",
              "      <th>Avg_Speed</th>\n",
              "      <th>Rating</th>\n",
              "    </tr>\n",
              "  </thead>\n",
              "  <tbody>\n",
              "    <tr>\n",
              "      <th>count</th>\n",
              "      <td>68.000000</td>\n",
              "      <td>68.000000</td>\n",
              "    </tr>\n",
              "    <tr>\n",
              "      <th>mean</th>\n",
              "      <td>74.015294</td>\n",
              "      <td>4.432353</td>\n",
              "    </tr>\n",
              "    <tr>\n",
              "      <th>std</th>\n",
              "      <td>8.308263</td>\n",
              "      <td>0.375138</td>\n",
              "    </tr>\n",
              "    <tr>\n",
              "      <th>min</th>\n",
              "      <td>45.000000</td>\n",
              "      <td>3.300000</td>\n",
              "    </tr>\n",
              "    <tr>\n",
              "      <th>25%</th>\n",
              "      <td>68.750000</td>\n",
              "      <td>4.275000</td>\n",
              "    </tr>\n",
              "    <tr>\n",
              "      <th>50%</th>\n",
              "      <td>74.500000</td>\n",
              "      <td>4.600000</td>\n",
              "    </tr>\n",
              "    <tr>\n",
              "      <th>75%</th>\n",
              "      <td>78.000000</td>\n",
              "      <td>4.600000</td>\n",
              "    </tr>\n",
              "    <tr>\n",
              "      <th>max</th>\n",
              "      <td>91.300000</td>\n",
              "      <td>5.000000</td>\n",
              "    </tr>\n",
              "  </tbody>\n",
              "</table>\n",
              "</div>\n",
              "      <button class=\"colab-df-convert\" onclick=\"convertToInteractive('df-afb24b5d-c135-4af1-a3bb-cad3214e559e')\"\n",
              "              title=\"Convert this dataframe to an interactive table.\"\n",
              "              style=\"display:none;\">\n",
              "        \n",
              "  <svg xmlns=\"http://www.w3.org/2000/svg\" height=\"24px\"viewBox=\"0 0 24 24\"\n",
              "       width=\"24px\">\n",
              "    <path d=\"M0 0h24v24H0V0z\" fill=\"none\"/>\n",
              "    <path d=\"M18.56 5.44l.94 2.06.94-2.06 2.06-.94-2.06-.94-.94-2.06-.94 2.06-2.06.94zm-11 1L8.5 8.5l.94-2.06 2.06-.94-2.06-.94L8.5 2.5l-.94 2.06-2.06.94zm10 10l.94 2.06.94-2.06 2.06-.94-2.06-.94-.94-2.06-.94 2.06-2.06.94z\"/><path d=\"M17.41 7.96l-1.37-1.37c-.4-.4-.92-.59-1.43-.59-.52 0-1.04.2-1.43.59L10.3 9.45l-7.72 7.72c-.78.78-.78 2.05 0 2.83L4 21.41c.39.39.9.59 1.41.59.51 0 1.02-.2 1.41-.59l7.78-7.78 2.81-2.81c.8-.78.8-2.07 0-2.86zM5.41 20L4 18.59l7.72-7.72 1.47 1.35L5.41 20z\"/>\n",
              "  </svg>\n",
              "      </button>\n",
              "      \n",
              "  <style>\n",
              "    .colab-df-container {\n",
              "      display:flex;\n",
              "      flex-wrap:wrap;\n",
              "      gap: 12px;\n",
              "    }\n",
              "\n",
              "    .colab-df-convert {\n",
              "      background-color: #E8F0FE;\n",
              "      border: none;\n",
              "      border-radius: 50%;\n",
              "      cursor: pointer;\n",
              "      display: none;\n",
              "      fill: #1967D2;\n",
              "      height: 32px;\n",
              "      padding: 0 0 0 0;\n",
              "      width: 32px;\n",
              "    }\n",
              "\n",
              "    .colab-df-convert:hover {\n",
              "      background-color: #E2EBFA;\n",
              "      box-shadow: 0px 1px 2px rgba(60, 64, 67, 0.3), 0px 1px 3px 1px rgba(60, 64, 67, 0.15);\n",
              "      fill: #174EA6;\n",
              "    }\n",
              "\n",
              "    [theme=dark] .colab-df-convert {\n",
              "      background-color: #3B4455;\n",
              "      fill: #D2E3FC;\n",
              "    }\n",
              "\n",
              "    [theme=dark] .colab-df-convert:hover {\n",
              "      background-color: #434B5C;\n",
              "      box-shadow: 0px 1px 3px 1px rgba(0, 0, 0, 0.15);\n",
              "      filter: drop-shadow(0px 1px 2px rgba(0, 0, 0, 0.3));\n",
              "      fill: #FFFFFF;\n",
              "    }\n",
              "  </style>\n",
              "\n",
              "      <script>\n",
              "        const buttonEl =\n",
              "          document.querySelector('#df-afb24b5d-c135-4af1-a3bb-cad3214e559e button.colab-df-convert');\n",
              "        buttonEl.style.display =\n",
              "          google.colab.kernel.accessAllowed ? 'block' : 'none';\n",
              "\n",
              "        async function convertToInteractive(key) {\n",
              "          const element = document.querySelector('#df-afb24b5d-c135-4af1-a3bb-cad3214e559e');\n",
              "          const dataTable =\n",
              "            await google.colab.kernel.invokeFunction('convertToInteractive',\n",
              "                                                     [key], {});\n",
              "          if (!dataTable) return;\n",
              "\n",
              "          const docLinkHtml = 'Like what you see? Visit the ' +\n",
              "            '<a target=\"_blank\" href=https://colab.research.google.com/notebooks/data_table.ipynb>data table notebook</a>'\n",
              "            + ' to learn more about interactive tables.';\n",
              "          element.innerHTML = '';\n",
              "          dataTable['output_type'] = 'display_data';\n",
              "          await google.colab.output.renderOutput(dataTable, element);\n",
              "          const docLink = document.createElement('div');\n",
              "          docLink.innerHTML = docLinkHtml;\n",
              "          element.appendChild(docLink);\n",
              "        }\n",
              "      </script>\n",
              "    </div>\n",
              "  </div>\n",
              "  "
            ]
          },
          "metadata": {},
          "execution_count": 7
        }
      ]
    },
    {
      "cell_type": "code",
      "source": [
        "#Assigning values\n",
        "\n",
        "avgspeed = df.Avg_Speed.values\n",
        "punctual = df.Punctuality.values"
      ],
      "metadata": {
        "id": "z9VoCpC9KNbu"
      },
      "execution_count": null,
      "outputs": []
    },
    {
      "cell_type": "markdown",
      "source": [
        "Setting default size to make large graphs for the ease of visualisation. After that plot a scatter graph to see if any clusters are forming withing the label values."
      ],
      "metadata": {
        "id": "WHCdeZkZKTf-"
      }
    },
    {
      "cell_type": "code",
      "source": [
        "rating = df.Rating.values\n",
        "plt.scatter(avgspeed, rating)\n",
        "plt.ylabel(\"Rating\")\n",
        "plt.xlabel(\"Average Speed\")"
      ],
      "metadata": {
        "colab": {
          "base_uri": "https://localhost:8080/",
          "height": 296
        },
        "id": "1XlAA9_0KWBT",
        "outputId": "e69774d2-5089-4d62-feed-200f0dd5cd0c"
      },
      "execution_count": null,
      "outputs": [
        {
          "output_type": "execute_result",
          "data": {
            "text/plain": [
              "Text(0.5, 0, 'Average Speed')"
            ]
          },
          "metadata": {},
          "execution_count": 9
        },
        {
          "output_type": "display_data",
          "data": {
            "text/plain": [
              "<Figure size 432x288 with 1 Axes>"
            ],
            "image/png": "[encoded data removed]"
          },
          "metadata": {
            "needs_background": "light"
          }
        }
      ]
    },
    {
      "cell_type": "markdown",
      "source": [
        "This scatter plot shown above displays the relation between overall ratings and speed of the train. It describes that the trains with speeds over 80km/h have better rating. But this result is not enough to reach up to a certain conclusion. So let's try other visualisation methods to find other insights. Like a bar plot.\n",
        "\n"
      ],
      "metadata": {
        "id": "rF8sCaXGKaWv"
      }
    },
    {
      "cell_type": "code",
      "source": [
        "plt.bar(x = rating, height = avgspeed)\n",
        "plt.xlabel(\"Rating\")\n",
        "plt.ylabel(\"Average Speed\")"
      ],
      "metadata": {
        "colab": {
          "base_uri": "https://localhost:8080/",
          "height": 296
        },
        "id": "ic0pIjT1KdA6",
        "outputId": "145d8c40-5ebf-443b-dc47-694868d50ede"
      },
      "execution_count": null,
      "outputs": [
        {
          "output_type": "execute_result",
          "data": {
            "text/plain": [
              "Text(0, 0.5, 'Average Speed')"
            ]
          },
          "metadata": {},
          "execution_count": 10
        },
        {
          "output_type": "display_data",
          "data": {
            "text/plain": [
              "<Figure size 432x288 with 1 Axes>"
            ],
            "image/png": "[encoded data removed]"
          },
          "metadata": {
            "needs_background": "light"
          }
        }
      ]
    },
    {
      "cell_type": "markdown",
      "source": [
        "Refine the graph by decreasing the width. Default width of a bar is 0.8. Here I've used 0.05 as the width."
      ],
      "metadata": {
        "id": "qcwFWgEsKiWz"
      }
    },
    {
      "cell_type": "code",
      "source": [
        "plt.bar(x = rating, height = avgspeed, width = 0.05)\n",
        "plt.ylabel(\"Rating\")\n",
        "plt.xlabel(\"Average Speed\")"
      ],
      "metadata": {
        "colab": {
          "base_uri": "https://localhost:8080/",
          "height": 296
        },
        "id": "UNRb6tQsKj3B",
        "outputId": "17066901-cb73-4870-faa3-7a6e92da7f91"
      },
      "execution_count": null,
      "outputs": [
        {
          "output_type": "execute_result",
          "data": {
            "text/plain": [
              "Text(0.5, 0, 'Average Speed')"
            ]
          },
          "metadata": {},
          "execution_count": 11
        },
        {
          "output_type": "display_data",
          "data": {
            "text/plain": [
              "<Figure size 432x288 with 1 Axes>"
            ],
            "image/png": "[encoded data removed]"
          },
          "metadata": {
            "needs_background": "light"
          }
        }
      ]
    },
    {
      "cell_type": "markdown",
      "source": [
        "**Conclusions that can be drawn are:**\n",
        "\n",
        "1)The speed limit of Indian trains are in between 60 km/h to 90 km/h range.\n",
        "\n",
        "2)Trains having speed above 80km/h have better ratings. This indicates that higher speed is preferred by passengers because it saves travelling time.\n",
        "\n",
        "In order to support our conclusion we can draw a regression type plot using regplot method."
      ],
      "metadata": {
        "id": "5aG3SQN0KoXR"
      }
    },
    {
      "cell_type": "code",
      "source": [
        "sns.regplot(x= \"Avg_Speed\", y= \"Rating\", data = df)\n",
        "plt.ylabel(\"Rating\")\n",
        "plt.xlabel(\"Average Speed\")"
      ],
      "metadata": {
        "colab": {
          "base_uri": "https://localhost:8080/",
          "height": 296
        },
        "id": "GMrvrS7IKq6N",
        "outputId": "bb63c5b6-9913-4703-ffa7-06cac1d242f2"
      },
      "execution_count": null,
      "outputs": [
        {
          "output_type": "execute_result",
          "data": {
            "text/plain": [
              "Text(0.5, 0, 'Average Speed')"
            ]
          },
          "metadata": {},
          "execution_count": 12
        },
        {
          "output_type": "display_data",
          "data": {
            "text/plain": [
              "<Figure size 432x288 with 1 Axes>"
            ],
            "image/png": "[encoded data removed]"
          },
          "metadata": {
            "needs_background": "light"
          }
        }
      ]
    },
    {
      "cell_type": "markdown",
      "source": [
        "It is observed that the ratings get better as the speed increases.\n",
        "\n",
        "Now let's find out correlation between speed and availability of the train."
      ],
      "metadata": {
        "id": "HIw0ne4FKvtn"
      }
    },
    {
      "cell_type": "code",
      "source": [
        "# Rank will be a function to alter the data to add more diversity. This is an example and in real world tasks, the data has\n",
        "# to be filled after quality research.\n",
        "def rank(array):\n",
        "    List1 = []\n",
        "    i = 0\n",
        "    while i in range(len(array)):\n",
        "        if array[i] == \"Excellent\":\n",
        "            r = random.uniform(4.0, 5.0)\n",
        "            r = round(r, 1)\n",
        "            List1.append(r)\n",
        "        elif array[i] == \"Good\":\n",
        "            r = random.uniform(3.0, 4.0)\n",
        "            r = round(r, 1)\n",
        "            List1.append(r)\n",
        "        elif array[i] == \"Average\":\n",
        "            r = random.uniform(2.0, 3.0)\n",
        "            r = round(r, 1)\n",
        "            List1.append(r)\n",
        "        else:\n",
        "            r = random.uniform(1.0, 2.0)\n",
        "            r = round(r, 1)\n",
        "            List1.append(r)\n",
        "        i += 1\n",
        "    return List1"
      ],
      "metadata": {
        "id": "J-4iOCCTKwiY"
      },
      "execution_count": null,
      "outputs": []
    },
    {
      "cell_type": "code",
      "source": [
        "df[\"Punctuality_Rating\"] = rank(df.Punctuality.values)\n",
        "df[\"Cleanliness_Rating\"] = rank(df.Cleanliness.values)\n",
        "df[\"Food_Rating\"] = rank(df.Food.values)\n",
        "df[\"Availability_Rating\"] = rank(df.Availability.values)\n",
        "df[\"Safety_Rating\"] = rank(df.Safety.values)\n",
        "df"
      ],
      "metadata": {
        "colab": {
          "base_uri": "https://localhost:8080/",
          "height": 748
        },
        "id": "SQIv_deIKzVe",
        "outputId": "5cb9239b-5726-4bd6-e10e-1b8631d6aa53"
      },
      "execution_count": null,
      "outputs": [
        {
          "output_type": "execute_result",
          "data": {
            "text/plain": [
              "       Train_No                                         Train_Name  Avg_Speed  \\\n",
              "0   12213/12214  Yeshvantapur - Delhi Sarai Rohilla AC Duronto ...      75.64   \n",
              "1   12219/12220  Lokmanya Tilak Terminus - Secunderabad AC Duro...      64.38   \n",
              "2   12221/12222                      Pune - Howrah Duronto Express      72.42   \n",
              "3   12223/12224  Lokmanya Tilak Terminus - Ernakulam Duronto Ex...      60.00   \n",
              "4   12227/12228            Mumbai Central - Indore Duronto Express      65.99   \n",
              "..          ...                                                ...        ...   \n",
              "63  12931/12932   Mumbai Central - Ahmedabad Double Decker Express      69.00   \n",
              "64  20805/20806               Visakhapatnam - New Delhi AP Express      76.00   \n",
              "65  12451/12452                               Shram Shakti Express      67.00   \n",
              "66  17235/17236                  KSR Bengaluru - Nagercoil Express      45.00   \n",
              "67  12049/12050                                   Gatimaan Express      91.00   \n",
              "\n",
              "    Rating Punctuality Cleanliness       Food Availability     Safety  \\\n",
              "0      4.6        Good   Excellent       Good    Excellent  Excellent   \n",
              "1      4.6   Excellent   Excellent       Good    Excellent       Good   \n",
              "2      4.6   Excellent   Excellent       Good         Good  Excellent   \n",
              "3      4.6   Excellent        Good       Good    Excellent  Excellent   \n",
              "4      4.8   Excellent   Excellent       Good    Excellent  Excellent   \n",
              "..     ...         ...         ...        ...          ...        ...   \n",
              "63     4.6        Good   Excellent       Good    Excellent  Excellent   \n",
              "64     4.2        Good        Good       Good    Excellent       Good   \n",
              "65     4.5   Excellent   Excellent       Good         Good  Excellent   \n",
              "66     3.6        Good        Good    Average         Good       Good   \n",
              "67     5.0   Excellent   Excellent  Excellent    Excellent  Excellent   \n",
              "\n",
              "    Punctuality_Rating  Cleanliness_Rating  Food_Rating  Availability_Rating  \\\n",
              "0                  3.6                 4.2          3.5                  4.5   \n",
              "1                  4.3                 4.8          3.5                  4.1   \n",
              "2                  4.1                 4.1          3.6                  3.5   \n",
              "3                  4.7                 3.6          4.0                  4.7   \n",
              "4                  5.0                 4.6          3.7                  4.3   \n",
              "..                 ...                 ...          ...                  ...   \n",
              "63                 3.8                 4.3          3.5                  4.4   \n",
              "64                 3.4                 3.1          3.1                  4.1   \n",
              "65                 4.5                 4.8          3.2                  3.6   \n",
              "66                 3.7                 3.4          2.6                  3.4   \n",
              "67                 4.3                 4.9          4.5                  4.1   \n",
              "\n",
              "    Safety_Rating  \n",
              "0             4.8  \n",
              "1             3.6  \n",
              "2             4.1  \n",
              "3             4.8  \n",
              "4             4.4  \n",
              "..            ...  \n",
              "63            4.2  \n",
              "64            3.8  \n",
              "65            5.0  \n",
              "66            3.5  \n",
              "67            4.7  \n",
              "\n",
              "[68 rows x 14 columns]"
            ],
            "text/html": [
              "\n",
              "  <div id=\"df-250b048e-0592-41b5-b1d9-bb6bf0d504f2\">\n",
              "    <div class=\"colab-df-container\">\n",
              "      <div>\n",
              "<style scoped>\n",
              "    .dataframe tbody tr th:only-of-type {\n",
              "        vertical-align: middle;\n",
              "    }\n",
              "\n",
              "    .dataframe tbody tr th {\n",
              "        vertical-align: top;\n",
              "    }\n",
              "\n",
              "    .dataframe thead th {\n",
              "        text-align: right;\n",
              "    }\n",
              "</style>\n",
              "<table border=\"1\" class=\"dataframe\">\n",
              "  <thead>\n",
              "    <tr style=\"text-align: right;\">\n",
              "      <th></th>\n",
              "      <th>Train_No</th>\n",
              "      <th>Train_Name</th>\n",
              "      <th>Avg_Speed</th>\n",
              "      <th>Rating</th>\n",
              "      <th>Punctuality</th>\n",
              "      <th>Cleanliness</th>\n",
              "      <th>Food</th>\n",
              "      <th>Availability</th>\n",
              "      <th>Safety</th>\n",
              "      <th>Punctuality_Rating</th>\n",
              "      <th>Cleanliness_Rating</th>\n",
              "      <th>Food_Rating</th>\n",
              "      <th>Availability_Rating</th>\n",
              "      <th>Safety_Rating</th>\n",
              "    </tr>\n",
              "  </thead>\n",
              "  <tbody>\n",
              "    <tr>\n",
              "      <th>0</th>\n",
              "      <td>12213/12214</td>\n",
              "      <td>Yeshvantapur - Delhi Sarai Rohilla AC Duronto ...</td>\n",
              "      <td>75.64</td>\n",
              "      <td>4.6</td>\n",
              "      <td>Good</td>\n",
              "      <td>Excellent</td>\n",
              "      <td>Good</td>\n",
              "      <td>Excellent</td>\n",
              "      <td>Excellent</td>\n",
              "      <td>3.6</td>\n",
              "      <td>4.2</td>\n",
              "      <td>3.5</td>\n",
              "      <td>4.5</td>\n",
              "      <td>4.8</td>\n",
              "    </tr>\n",
              "    <tr>\n",
              "      <th>1</th>\n",
              "      <td>12219/12220</td>\n",
              "      <td>Lokmanya Tilak Terminus - Secunderabad AC Duro...</td>\n",
              "      <td>64.38</td>\n",
              "      <td>4.6</td>\n",
              "      <td>Excellent</td>\n",
              "      <td>Excellent</td>\n",
              "      <td>Good</td>\n",
              "      <td>Excellent</td>\n",
              "      <td>Good</td>\n",
              "      <td>4.3</td>\n",
              "      <td>4.8</td>\n",
              "      <td>3.5</td>\n",
              "      <td>4.1</td>\n",
              "      <td>3.6</td>\n",
              "    </tr>\n",
              "    <tr>\n",
              "      <th>2</th>\n",
              "      <td>12221/12222</td>\n",
              "      <td>Pune - Howrah Duronto Express</td>\n",
              "      <td>72.42</td>\n",
              "      <td>4.6</td>\n",
              "      <td>Excellent</td>\n",
              "      <td>Excellent</td>\n",
              "      <td>Good</td>\n",
              "      <td>Good</td>\n",
              "      <td>Excellent</td>\n",
              "      <td>4.1</td>\n",
              "      <td>4.1</td>\n",
              "      <td>3.6</td>\n",
              "      <td>3.5</td>\n",
              "      <td>4.1</td>\n",
              "    </tr>\n",
              "    <tr>\n",
              "      <th>3</th>\n",
              "      <td>12223/12224</td>\n",
              "      <td>Lokmanya Tilak Terminus - Ernakulam Duronto Ex...</td>\n",
              "      <td>60.00</td>\n",
              "      <td>4.6</td>\n",
              "      <td>Excellent</td>\n",
              "      <td>Good</td>\n",
              "      <td>Good</td>\n",
              "      <td>Excellent</td>\n",
              "      <td>Excellent</td>\n",
              "      <td>4.7</td>\n",
              "      <td>3.6</td>\n",
              "      <td>4.0</td>\n",
              "      <td>4.7</td>\n",
              "      <td>4.8</td>\n",
              "    </tr>\n",
              "    <tr>\n",
              "      <th>4</th>\n",
              "      <td>12227/12228</td>\n",
              "      <td>Mumbai Central - Indore Duronto Express</td>\n",
              "      <td>65.99</td>\n",
              "      <td>4.8</td>\n",
              "      <td>Excellent</td>\n",
              "      <td>Excellent</td>\n",
              "      <td>Good</td>\n",
              "      <td>Excellent</td>\n",
              "      <td>Excellent</td>\n",
              "      <td>5.0</td>\n",
              "      <td>4.6</td>\n",
              "      <td>3.7</td>\n",
              "      <td>4.3</td>\n",
              "      <td>4.4</td>\n",
              "    </tr>\n",
              "    <tr>\n",
              "      <th>...</th>\n",
              "      <td>...</td>\n",
              "      <td>...</td>\n",
              "      <td>...</td>\n",
              "      <td>...</td>\n",
              "      <td>...</td>\n",
              "      <td>...</td>\n",
              "      <td>...</td>\n",
              "      <td>...</td>\n",
              "      <td>...</td>\n",
              "      <td>...</td>\n",
              "      <td>...</td>\n",
              "      <td>...</td>\n",
              "      <td>...</td>\n",
              "      <td>...</td>\n",
              "    </tr>\n",
              "    <tr>\n",
              "      <th>63</th>\n",
              "      <td>12931/12932</td>\n",
              "      <td>Mumbai Central - Ahmedabad Double Decker Express</td>\n",
              "      <td>69.00</td>\n",
              "      <td>4.6</td>\n",
              "      <td>Good</td>\n",
              "      <td>Excellent</td>\n",
              "      <td>Good</td>\n",
              "      <td>Excellent</td>\n",
              "      <td>Excellent</td>\n",
              "      <td>3.8</td>\n",
              "      <td>4.3</td>\n",
              "      <td>3.5</td>\n",
              "      <td>4.4</td>\n",
              "      <td>4.2</td>\n",
              "    </tr>\n",
              "    <tr>\n",
              "      <th>64</th>\n",
              "      <td>20805/20806</td>\n",
              "      <td>Visakhapatnam - New Delhi AP Express</td>\n",
              "      <td>76.00</td>\n",
              "      <td>4.2</td>\n",
              "      <td>Good</td>\n",
              "      <td>Good</td>\n",
              "      <td>Good</td>\n",
              "      <td>Excellent</td>\n",
              "      <td>Good</td>\n",
              "      <td>3.4</td>\n",
              "      <td>3.1</td>\n",
              "      <td>3.1</td>\n",
              "      <td>4.1</td>\n",
              "      <td>3.8</td>\n",
              "    </tr>\n",
              "    <tr>\n",
              "      <th>65</th>\n",
              "      <td>12451/12452</td>\n",
              "      <td>Shram Shakti Express</td>\n",
              "      <td>67.00</td>\n",
              "      <td>4.5</td>\n",
              "      <td>Excellent</td>\n",
              "      <td>Excellent</td>\n",
              "      <td>Good</td>\n",
              "      <td>Good</td>\n",
              "      <td>Excellent</td>\n",
              "      <td>4.5</td>\n",
              "      <td>4.8</td>\n",
              "      <td>3.2</td>\n",
              "      <td>3.6</td>\n",
              "      <td>5.0</td>\n",
              "    </tr>\n",
              "    <tr>\n",
              "      <th>66</th>\n",
              "      <td>17235/17236</td>\n",
              "      <td>KSR Bengaluru - Nagercoil Express</td>\n",
              "      <td>45.00</td>\n",
              "      <td>3.6</td>\n",
              "      <td>Good</td>\n",
              "      <td>Good</td>\n",
              "      <td>Average</td>\n",
              "      <td>Good</td>\n",
              "      <td>Good</td>\n",
              "      <td>3.7</td>\n",
              "      <td>3.4</td>\n",
              "      <td>2.6</td>\n",
              "      <td>3.4</td>\n",
              "      <td>3.5</td>\n",
              "    </tr>\n",
              "    <tr>\n",
              "      <th>67</th>\n",
              "      <td>12049/12050</td>\n",
              "      <td>Gatimaan Express</td>\n",
              "      <td>91.00</td>\n",
              "      <td>5.0</td>\n",
              "      <td>Excellent</td>\n",
              "      <td>Excellent</td>\n",
              "      <td>Excellent</td>\n",
              "      <td>Excellent</td>\n",
              "      <td>Excellent</td>\n",
              "      <td>4.3</td>\n",
              "      <td>4.9</td>\n",
              "      <td>4.5</td>\n",
              "      <td>4.1</td>\n",
              "      <td>4.7</td>\n",
              "    </tr>\n",
              "  </tbody>\n",
              "</table>\n",
              "<p>68 rows × 14 columns</p>\n",
              "</div>\n",
              "      <button class=\"colab-df-convert\" onclick=\"convertToInteractive('df-250b048e-0592-41b5-b1d9-bb6bf0d504f2')\"\n",
              "              title=\"Convert this dataframe to an interactive table.\"\n",
              "              style=\"display:none;\">\n",
              "        \n",
              "  <svg xmlns=\"http://www.w3.org/2000/svg\" height=\"24px\"viewBox=\"0 0 24 24\"\n",
              "       width=\"24px\">\n",
              "    <path d=\"M0 0h24v24H0V0z\" fill=\"none\"/>\n",
              "    <path d=\"M18.56 5.44l.94 2.06.94-2.06 2.06-.94-2.06-.94-.94-2.06-.94 2.06-2.06.94zm-11 1L8.5 8.5l.94-2.06 2.06-.94-2.06-.94L8.5 2.5l-.94 2.06-2.06.94zm10 10l.94 2.06.94-2.06 2.06-.94-2.06-.94-.94-2.06-.94 2.06-2.06.94z\"/><path d=\"M17.41 7.96l-1.37-1.37c-.4-.4-.92-.59-1.43-.59-.52 0-1.04.2-1.43.59L10.3 9.45l-7.72 7.72c-.78.78-.78 2.05 0 2.83L4 21.41c.39.39.9.59 1.41.59.51 0 1.02-.2 1.41-.59l7.78-7.78 2.81-2.81c.8-.78.8-2.07 0-2.86zM5.41 20L4 18.59l7.72-7.72 1.47 1.35L5.41 20z\"/>\n",
              "  </svg>\n",
              "      </button>\n",
              "      \n",
              "  <style>\n",
              "    .colab-df-container {\n",
              "      display:flex;\n",
              "      flex-wrap:wrap;\n",
              "      gap: 12px;\n",
              "    }\n",
              "\n",
              "    .colab-df-convert {\n",
              "      background-color: #E8F0FE;\n",
              "      border: none;\n",
              "      border-radius: 50%;\n",
              "      cursor: pointer;\n",
              "      display: none;\n",
              "      fill: #1967D2;\n",
              "      height: 32px;\n",
              "      padding: 0 0 0 0;\n",
              "      width: 32px;\n",
              "    }\n",
              "\n",
              "    .colab-df-convert:hover {\n",
              "      background-color: #E2EBFA;\n",
              "      box-shadow: 0px 1px 2px rgba(60, 64, 67, 0.3), 0px 1px 3px 1px rgba(60, 64, 67, 0.15);\n",
              "      fill: #174EA6;\n",
              "    }\n",
              "\n",
              "    [theme=dark] .colab-df-convert {\n",
              "      background-color: #3B4455;\n",
              "      fill: #D2E3FC;\n",
              "    }\n",
              "\n",
              "    [theme=dark] .colab-df-convert:hover {\n",
              "      background-color: #434B5C;\n",
              "      box-shadow: 0px 1px 3px 1px rgba(0, 0, 0, 0.15);\n",
              "      filter: drop-shadow(0px 1px 2px rgba(0, 0, 0, 0.3));\n",
              "      fill: #FFFFFF;\n",
              "    }\n",
              "  </style>\n",
              "\n",
              "      <script>\n",
              "        const buttonEl =\n",
              "          document.querySelector('#df-250b048e-0592-41b5-b1d9-bb6bf0d504f2 button.colab-df-convert');\n",
              "        buttonEl.style.display =\n",
              "          google.colab.kernel.accessAllowed ? 'block' : 'none';\n",
              "\n",
              "        async function convertToInteractive(key) {\n",
              "          const element = document.querySelector('#df-250b048e-0592-41b5-b1d9-bb6bf0d504f2');\n",
              "          const dataTable =\n",
              "            await google.colab.kernel.invokeFunction('convertToInteractive',\n",
              "                                                     [key], {});\n",
              "          if (!dataTable) return;\n",
              "\n",
              "          const docLinkHtml = 'Like what you see? Visit the ' +\n",
              "            '<a target=\"_blank\" href=https://colab.research.google.com/notebooks/data_table.ipynb>data table notebook</a>'\n",
              "            + ' to learn more about interactive tables.';\n",
              "          element.innerHTML = '';\n",
              "          dataTable['output_type'] = 'display_data';\n",
              "          await google.colab.output.renderOutput(dataTable, element);\n",
              "          const docLink = document.createElement('div');\n",
              "          docLink.innerHTML = docLinkHtml;\n",
              "          element.appendChild(docLink);\n",
              "        }\n",
              "      </script>\n",
              "    </div>\n",
              "  </div>\n",
              "  "
            ]
          },
          "metadata": {},
          "execution_count": 14
        }
      ]
    },
    {
      "cell_type": "markdown",
      "source": [
        "**These columns will be ued for regression and let's find correlation.**"
      ],
      "metadata": {
        "id": "IvlBaWUyK3kh"
      }
    },
    {
      "cell_type": "code",
      "source": [
        "sns.regplot(x= \"Avg_Speed\", y= \"Punctuality_Rating\", data = df)\n",
        "plt.ylabel(\"Rating\")\n",
        "plt.xlabel(\"Average Speed\")"
      ],
      "metadata": {
        "colab": {
          "base_uri": "https://localhost:8080/",
          "height": 296
        },
        "id": "QNZCCarEK5yb",
        "outputId": "4f36de9a-fda7-4e0c-9afa-707a24862f15"
      },
      "execution_count": null,
      "outputs": [
        {
          "output_type": "execute_result",
          "data": {
            "text/plain": [
              "Text(0.5, 0, 'Average Speed')"
            ]
          },
          "metadata": {},
          "execution_count": 15
        },
        {
          "output_type": "display_data",
          "data": {
            "text/plain": [
              "<Figure size 432x288 with 1 Axes>"
            ],
            "image/png": "[encoded data removed]"
          },
          "metadata": {
            "needs_background": "light"
          }
        }
      ]
    },
    {
      "cell_type": "markdown",
      "source": [
        "**When we do not get better insights from the data, this is due to the reason that:-**\n",
        "\n",
        "1)Dataset is small.\n",
        "\n",
        "2)Data for a particular label has less variability or diversity.\n",
        "\n",
        "To avoid this use large and diverse datasets.\n",
        "\n",
        "We plot everything on the same graph to save time and get relation between labels. Make sure coordinates are of same type. Do color correction for better visibility."
      ],
      "metadata": {
        "id": "wiVywjiCLAGd"
      }
    },
    {
      "cell_type": "code",
      "source": [
        "sns.regplot(x= \"Avg_Speed\", y= \"Punctuality_Rating\", data = df, color = \"red\")\n",
        "sns.regplot(x= \"Avg_Speed\", y= \"Cleanliness_Rating\", data = df, color = \"blue\")\n",
        "sns.regplot(x= \"Avg_Speed\", y= \"Food_Rating\", data = df, color = \"magenta\")\n",
        "sns.regplot(x= \"Avg_Speed\", y= \"Availability_Rating\", data = df, color = \"green\")\n",
        "sns.regplot(x= \"Avg_Speed\", y= \"Safety_Rating\", data = df, color = \"grey\")"
      ],
      "metadata": {
        "colab": {
          "base_uri": "https://localhost:8080/",
          "height": 297
        },
        "id": "0PmjPeiPLCFg",
        "outputId": "8ebc5743-d6ee-4b25-fac7-7bf6f7cfddfc"
      },
      "execution_count": null,
      "outputs": [
        {
          "output_type": "execute_result",
          "data": {
            "text/plain": [
              "<matplotlib.axes._subplots.AxesSubplot at 0x7efebe1c7090>"
            ]
          },
          "metadata": {},
          "execution_count": 16
        },
        {
          "output_type": "display_data",
          "data": {
            "text/plain": [
              "<Figure size 432x288 with 1 Axes>"
            ],
            "image/png": "[encoded data removed]"
          },
          "metadata": {
            "needs_background": "light"
          }
        }
      ]
    },
    {
      "cell_type": "markdown",
      "source": [
        "**Conclusions:**\n",
        "\n",
        "1) The trains which are mostly used have a speed in between 60 to 80 range.\n",
        "\n",
        "2) As speed increases, the quality of food, cleanliness and safety increses. This is due to the reason that the faster the train is, the higher is the fare. And in turn higher fare results in better facilities.\n",
        "\n",
        "3) All trains are punctual and equally available.\n",
        "\n",
        "**Suggestions:**\n",
        "\n",
        "1) More focus has to be given on the trains with poor overall ratings . 2) Trains average operating speed must be above 60 km/h."
      ],
      "metadata": {
        "id": "iHmUhpC3LHy0"
      }
    },
    {
      "cell_type": "markdown",
      "source": [
        "**THE END**"
      ],
      "metadata": {
        "id": "-4-RjMbWLMzG"
      }
    }
  ]
}